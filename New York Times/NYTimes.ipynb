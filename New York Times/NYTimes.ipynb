{
 "cells": [
  {
   "cell_type": "markdown",
   "id": "a08a65c7",
   "metadata": {},
   "source": [
    "# Web Scrapping\n",
    "\n",
    "Scraping Top 15 books published on New york Times using the manual method."
   ]
  },
  {
   "cell_type": "code",
   "execution_count": 1,
   "id": "a1d4e887",
   "metadata": {},
   "outputs": [],
   "source": [
    "from bs4 import BeautifulSoup"
   ]
  },
  {
   "cell_type": "code",
   "execution_count": 2,
   "id": "c6a05ecb",
   "metadata": {},
   "outputs": [],
   "source": [
    "with open('NYTimes HTML.html', 'r', encoding='utf-8') as file:  #<- 'r' to tell python to read as 'file'\n",
    "    page = file.read() "
   ]
  },
  {
   "cell_type": "code",
   "execution_count": 3,
   "id": "f24d54a8",
   "metadata": {},
   "outputs": [],
   "source": [
    "soup = BeautifulSoup(page, 'lxml')"
   ]
  },
  {
   "cell_type": "code",
   "execution_count": 4,
   "id": "90746198",
   "metadata": {},
   "outputs": [],
   "source": [
    "articles =soup.select('article')#<-- select individual tags with css selector. Selecting each article tags in the html\n",
    "#<-- the 'article' selects all the article tags in the code"
   ]
  },
  {
   "cell_type": "code",
   "execution_count": 5,
   "id": "3322d4d9",
   "metadata": {
    "scrolled": true
   },
   "outputs": [
    {
     "data": {
      "text/plain": [
       "<article class=\"css-1u6k25n\" itemprop=\"itemListElement\" itemscope=\"\" itemtype=\"https://schema.org/Book\"><div class=\"css-xe4cfy\"><a><p class=\"css-1o26r9v\">New this week</p><h3 class=\"css-5pe77f\" itemprop=\"name\">FAIRY TALE</h3><p class=\"css-hjukut\" itemprop=\"author\">by Stephen King</p><p class=\"css-heg334\" itemprop=\"publisher\">Scribner</p><p class=\"css-14lubdp\" itemprop=\"description\">A high school kid inherits a shed that is a portal to another world where good and evil are at war.</p></a><div class=\"css-1cpfh5o\"><div class=\"css-fugswm\"><div class=\"css-79elbk\"><button aria-expanded=\"false\" aria-haspopup=\"true\" class=\"css-80zux2\" type=\"button\">Buy<span aria-hidden=\"true\"> ▾</span></button><ul aria-label=\"Links to Book Retailers\" class=\"css-8dud8s\" hidden=\"\"><li><a class=\"css-114t425\" href=\"https://www.amazon.com/dp/1668002175?tag=NYTBSREV-20\" rel=\"noopener noreferrer\" target=\"_blank\">Amazon</a></li><li><a class=\"css-114t425\" href=\"https://goto.applebooks.apple/9781668002179?at=10lIEQ\" rel=\"noopener noreferrer\" target=\"_blank\">Apple Books</a></li><li><a class=\"css-114t425\" href=\"https://www.anrdoezrs.net/click-7990613-11819508?url=https%3A%2F%2Fwww.barnesandnoble.com%2Fw%2F%3Fean%3D9781668002179\" rel=\"noopener noreferrer\" target=\"_blank\">Barnes and Noble</a></li><li><a class=\"css-114t425\" href=\"https://du-gae-books-dot-nyt-du-prd.appspot.com/redirect?url1=https%3A%2F%2Fwww.anrdoezrs.net%2Fclick-7990613-35140%3Furl%3Dhttps%253A%252F%252Fwww.booksamillion.com%252Fp%252FFAIRY%252BTALE%252FStephen%252BKing%252F9781668002179&amp;url2=https%3A%2F%2Fwww.anrdoezrs.net%2Fclick-7990613-35140%3Furl%3Dhttps%253A%252F%252Fwww.booksamillion.com%252Fsearch%253Fquery%253DFAIRY%252BTALE%252BStephen%252BKing\" rel=\"noopener noreferrer\" target=\"_blank\">Books-A-Million</a></li><li><a class=\"css-114t425\" href=\"https://du-gae-books-dot-nyt-du-prd.appspot.com/redirect?url1=https%3A%2F%2Fbookshop.org%2Fa%2F3546%2F9781668002179&amp;url2=https%3A%2F%2Fbookshop.org%2Fbooks%3Faffiliate%3D3546%26keywords%3DFAIRY%2BTALE\" rel=\"noopener noreferrer\" target=\"_blank\">Bookshop</a></li><li><a class=\"css-114t425\" href=\"https://du-gae-books-dot-nyt-du-prd.appspot.com/redirect?url1=https%3A%2F%2Fwww.indiebound.org%2Fbook%2F9781668002179%3Faff%3DNYT&amp;url2=https%3A%2F%2Fwww.indiebound.org%2Fsearch%2Fbook%3Fkeys%3DFAIRY%2BTALE%2BStephen%2BKing%26aff%3DNYT\" rel=\"noopener noreferrer\" target=\"_blank\">IndieBound</a></li></ul></div></div></div></div><footer class=\"css-1d36f7m\"><div class=\"css-szqx50\"><a><img alt=\"FAIRY TALE by Stephen King\" itemprop=\"image\" role=\"presentation\" src=\"https://storage.googleapis.com/du-prd/books/images/9781668002179.jpg\"/></a></div></footer><meta content=\"1668002175\" itemprop=\"isbn\"/><meta content=\"9781668002179\" itemprop=\"isbn\"/><meta content=\"1\" itemprop=\"position\"/><meta content=\"https://www.nytimes.com/books/best-sellers/2022/09/25/hardcover-fiction#QmVzdFNlbGxlckJvb2s6MTY2ODAwMjE3NS05NzgxNjY4MDAyMTc5\" itemprop=\"url\"/></article>"
      ]
     },
     "execution_count": 5,
     "metadata": {},
     "output_type": "execute_result"
    }
   ],
   "source": [
    "articles[0] #<- select the first article tag from the available 15 article tags in the html"
   ]
  },
  {
   "cell_type": "code",
   "execution_count": 6,
   "id": "69913b0f",
   "metadata": {},
   "outputs": [
    {
     "data": {
      "text/plain": [
       "[<h3 class=\"css-5pe77f\" itemprop=\"name\">FAIRY TALE</h3>,\n",
       " <h3 class=\"css-5pe77f\" itemprop=\"name\">DESPERATION IN DEATH</h3>,\n",
       " <h3 class=\"css-5pe77f\" itemprop=\"name\">CARRIE SOTO IS BACK</h3>,\n",
       " <h3 class=\"css-5pe77f\" itemprop=\"name\">ALL GOOD PEOPLE HERE</h3>,\n",
       " <h3 class=\"css-5pe77f\" itemprop=\"name\">THE MARRIAGE PORTRAIT</h3>,\n",
       " <h3 class=\"css-5pe77f\" itemprop=\"name\">THE 6:20 MAN</h3>,\n",
       " <h3 class=\"css-5pe77f\" itemprop=\"name\">CLIVE CUSSLER'S HELLBURNER</h3>,\n",
       " <h3 class=\"css-5pe77f\" itemprop=\"name\">HELL AND BACK</h3>,\n",
       " <h3 class=\"css-5pe77f\" itemprop=\"name\">KILLERS OF A CERTAIN AGE</h3>,\n",
       " <h3 class=\"css-5pe77f\" itemprop=\"name\">THE INK BLACK HEART</h3>,\n",
       " <h3 class=\"css-5pe77f\" itemprop=\"name\">THE LAST THING HE TOLD ME</h3>,\n",
       " <h3 class=\"css-5pe77f\" itemprop=\"name\">OTHER BIRDS</h3>,\n",
       " <h3 class=\"css-5pe77f\" itemprop=\"name\">LESSONS IN CHEMISTRY</h3>,\n",
       " <h3 class=\"css-5pe77f\" itemprop=\"name\">THE MIDNIGHT LIBRARY</h3>,\n",
       " <h3 class=\"css-5pe77f\" itemprop=\"name\">THE RISING TIDE</h3>]"
      ]
     },
     "execution_count": 6,
     "metadata": {},
     "output_type": "execute_result"
    }
   ],
   "source": [
    "soup.select('article h3') #<-- select every h3 tags inside article tag (this h3 tag contains the book titles in the html )"
   ]
  },
  {
   "cell_type": "code",
   "execution_count": 7,
   "id": "c87b1e0f",
   "metadata": {},
   "outputs": [
    {
     "data": {
      "text/plain": [
       "[<h3 class=\"css-5pe77f\" itemprop=\"name\">FAIRY TALE</h3>,\n",
       " <h3 class=\"css-5pe77f\" itemprop=\"name\">DESPERATION IN DEATH</h3>,\n",
       " <h3 class=\"css-5pe77f\" itemprop=\"name\">CARRIE SOTO IS BACK</h3>,\n",
       " <h3 class=\"css-5pe77f\" itemprop=\"name\">ALL GOOD PEOPLE HERE</h3>,\n",
       " <h3 class=\"css-5pe77f\" itemprop=\"name\">THE MARRIAGE PORTRAIT</h3>,\n",
       " <h3 class=\"css-5pe77f\" itemprop=\"name\">THE 6:20 MAN</h3>,\n",
       " <h3 class=\"css-5pe77f\" itemprop=\"name\">CLIVE CUSSLER'S HELLBURNER</h3>,\n",
       " <h3 class=\"css-5pe77f\" itemprop=\"name\">HELL AND BACK</h3>,\n",
       " <h3 class=\"css-5pe77f\" itemprop=\"name\">KILLERS OF A CERTAIN AGE</h3>,\n",
       " <h3 class=\"css-5pe77f\" itemprop=\"name\">THE INK BLACK HEART</h3>,\n",
       " <h3 class=\"css-5pe77f\" itemprop=\"name\">THE LAST THING HE TOLD ME</h3>,\n",
       " <h3 class=\"css-5pe77f\" itemprop=\"name\">OTHER BIRDS</h3>,\n",
       " <h3 class=\"css-5pe77f\" itemprop=\"name\">LESSONS IN CHEMISTRY</h3>,\n",
       " <h3 class=\"css-5pe77f\" itemprop=\"name\">THE MIDNIGHT LIBRARY</h3>,\n",
       " <h3 class=\"css-5pe77f\" itemprop=\"name\">THE RISING TIDE</h3>]"
      ]
     },
     "execution_count": 7,
     "metadata": {},
     "output_type": "execute_result"
    }
   ],
   "source": [
    "soup.select('article h3[itemprop=\"name\"]') #<-- select only the h3 tag in article tag with property itemprop = 'name'\n",
    "#<-- This results to the samething we have in the above cell because there is an itemprop and h3 tag in all the article "
   ]
  },
  {
   "cell_type": "code",
   "execution_count": 8,
   "id": "6090a518",
   "metadata": {},
   "outputs": [
    {
     "data": {
      "text/plain": [
       "bs4.element.ResultSet"
      ]
     },
     "execution_count": 8,
     "metadata": {},
     "output_type": "execute_result"
    }
   ],
   "source": [
    "result = soup.select('article h3[itemprop=\"name\"]')\n",
    "type(result)"
   ]
  },
  {
   "cell_type": "code",
   "execution_count": 9,
   "id": "144aa23d",
   "metadata": {},
   "outputs": [
    {
     "data": {
      "text/plain": [
       "<h3 class=\"css-5pe77f\" itemprop=\"name\">FAIRY TALE</h3>"
      ]
     },
     "execution_count": 9,
     "metadata": {},
     "output_type": "execute_result"
    }
   ],
   "source": [
    "result[0] #<-- This returns the html and the book title; but we're only interested in the book title\n",
    "#<-- this returns the first book title"
   ]
  },
  {
   "cell_type": "code",
   "execution_count": 10,
   "id": "3eda6c3f",
   "metadata": {},
   "outputs": [
    {
     "data": {
      "text/plain": [
       "'FAIRY TALE'"
      ]
     },
     "execution_count": 10,
     "metadata": {},
     "output_type": "execute_result"
    }
   ],
   "source": [
    "result[0].text #<-- Returns only the book name because we added"
   ]
  },
  {
   "cell_type": "code",
   "execution_count": 11,
   "id": "a663336f",
   "metadata": {},
   "outputs": [
    {
     "data": {
      "text/plain": [
       "['FAIRY TALE',\n",
       " 'DESPERATION IN DEATH',\n",
       " 'CARRIE SOTO IS BACK',\n",
       " 'ALL GOOD PEOPLE HERE',\n",
       " 'THE MARRIAGE PORTRAIT',\n",
       " 'THE 6:20 MAN',\n",
       " \"CLIVE CUSSLER'S HELLBURNER\",\n",
       " 'HELL AND BACK',\n",
       " 'KILLERS OF A CERTAIN AGE',\n",
       " 'THE INK BLACK HEART',\n",
       " 'THE LAST THING HE TOLD ME',\n",
       " 'OTHER BIRDS',\n",
       " 'LESSONS IN CHEMISTRY',\n",
       " 'THE MIDNIGHT LIBRARY',\n",
       " 'THE RISING TIDE']"
      ]
     },
     "execution_count": 11,
     "metadata": {},
     "output_type": "execute_result"
    }
   ],
   "source": [
    "titles = [name.text for name in result]  #<-- Get the book titles in the list using list comprehension and .text\n",
    "titles"
   ]
  },
  {
   "cell_type": "code",
   "execution_count": 12,
   "id": "8acb42fc",
   "metadata": {},
   "outputs": [
    {
     "data": {
      "text/plain": [
       "[<p class=\"css-hjukut\" itemprop=\"author\">by Stephen King</p>,\n",
       " <p class=\"css-hjukut\" itemprop=\"author\">by J.D. Robb</p>,\n",
       " <p class=\"css-hjukut\" itemprop=\"author\">by Taylor Jenkins Reid</p>,\n",
       " <p class=\"css-hjukut\" itemprop=\"author\">by Ashley Flowers with Alex Kiester</p>,\n",
       " <p class=\"css-hjukut\" itemprop=\"author\">by Maggie O'Farrell</p>,\n",
       " <p class=\"css-hjukut\" itemprop=\"author\">by David Baldacci</p>,\n",
       " <p class=\"css-hjukut\" itemprop=\"author\">by Mike Maden</p>,\n",
       " <p class=\"css-hjukut\" itemprop=\"author\">by Craig Johnson</p>,\n",
       " <p class=\"css-hjukut\" itemprop=\"author\">by Deanna Raybourn</p>,\n",
       " <p class=\"css-hjukut\" itemprop=\"author\">by Robert Galbraith</p>,\n",
       " <p class=\"css-hjukut\" itemprop=\"author\">by Laura Dave</p>,\n",
       " <p class=\"css-hjukut\" itemprop=\"author\">by Sarah Addison Allen</p>,\n",
       " <p class=\"css-hjukut\" itemprop=\"author\">by Bonnie Garmus</p>,\n",
       " <p class=\"css-hjukut\" itemprop=\"author\">by Matt Haig</p>,\n",
       " <p class=\"css-hjukut\" itemprop=\"author\">by Ann Cleeves</p>]"
      ]
     },
     "execution_count": 12,
     "metadata": {},
     "output_type": "execute_result"
    }
   ],
   "source": [
    "author_result = soup.select('article p[itemprop=\"author\"]')  #<-- selecting the p tag in article with attribute itemprop\n",
    "author_result"
   ]
  },
  {
   "cell_type": "code",
   "execution_count": 13,
   "id": "d37ea7e3",
   "metadata": {},
   "outputs": [],
   "source": [
    "# author_result = soup.select('article p[itemprop=\"author\"]')"
   ]
  },
  {
   "cell_type": "code",
   "execution_count": 14,
   "id": "d9d641d8",
   "metadata": {},
   "outputs": [
    {
     "data": {
      "text/plain": [
       "['Stephen King',\n",
       " 'J.D. Ro',\n",
       " 'Taylor Jenkins Reid',\n",
       " 'Ashley Flowers with Alex Kiester',\n",
       " \"Maggie O'Farrell\",\n",
       " 'David Baldacci',\n",
       " 'Mike Maden',\n",
       " 'Craig Johnson',\n",
       " 'Deanna Raybourn',\n",
       " 'Robert Galbraith',\n",
       " 'Laura Dave',\n",
       " 'Sarah Addison Allen',\n",
       " 'Bonnie Garmus',\n",
       " 'Matt Haig',\n",
       " 'Ann Cleeves']"
      ]
     },
     "execution_count": 14,
     "metadata": {},
     "output_type": "execute_result"
    }
   ],
   "source": [
    "authors = [author.text.strip('by ') for author in author_result]   #<-- author.text is recognised as an attribute \n",
    "#<-- so we can call the .strip method \n",
    "authors"
   ]
  },
  {
   "cell_type": "code",
   "execution_count": 15,
   "id": "67971683",
   "metadata": {},
   "outputs": [
    {
     "data": {
      "text/plain": [
       "[<img alt=\"FAIRY TALE by Stephen King\" itemprop=\"image\" role=\"presentation\" src=\"https://storage.googleapis.com/du-prd/books/images/9781668002179.jpg\"/>,\n",
       " <img alt=\"DESPERATION IN DEATH by J.D. Robb\" itemprop=\"image\" role=\"presentation\" src=\"https://storage.googleapis.com/du-prd/books/images/9781250278234.jpg\"/>,\n",
       " <img alt=\"CARRIE SOTO IS BACK by Taylor Jenkins Reid\" itemprop=\"image\" role=\"presentation\" src=\"https://storage.googleapis.com/du-prd/books/images/9780593158685.jpg\"/>,\n",
       " <img alt=\"ALL GOOD PEOPLE HERE by Ashley Flowers with Alex Kiester\" itemprop=\"image\" role=\"presentation\" src=\"https://storage.googleapis.com/du-prd/books/images/9780593496473.jpg\"/>,\n",
       " <img alt=\"THE MARRIAGE PORTRAIT by Maggie O'Farrell\" itemprop=\"image\" role=\"presentation\" src=\"https://storage.googleapis.com/du-prd/books/images/9780593320624.jpg\"/>,\n",
       " <img alt=\"THE 6:20 MAN by David Baldacci\" itemprop=\"image\" role=\"presentation\" src=\"https://storage.googleapis.com/du-prd/books/images/9781538719848.jpg\"/>,\n",
       " <img alt=\"CLIVE CUSSLER'S HELLBURNER by Mike Maden\" itemprop=\"image\" role=\"presentation\" src=\"https://storage.googleapis.com/du-prd/books/images/9780593540640.jpg\"/>,\n",
       " <img alt=\"HELL AND BACK by Craig Johnson\" itemprop=\"image\" role=\"presentation\" src=\"https://storage.googleapis.com/du-prd/books/images/9780593297285.jpg\"/>,\n",
       " <img alt=\"KILLERS OF A CERTAIN AGE by Deanna Raybourn\" itemprop=\"image\" role=\"presentation\" src=\"https://storage.googleapis.com/du-prd/books/images/9780593200681.jpg\"/>,\n",
       " <img alt=\"THE INK BLACK HEART by Robert Galbraith\" itemprop=\"image\" role=\"presentation\" src=\"https://storage.googleapis.com/du-prd/books/images/9780316413039.jpg\"/>,\n",
       " <img alt=\"THE LAST THING HE TOLD ME by Laura Dave\" itemprop=\"image\" role=\"presentation\" src=\"https://storage.googleapis.com/du-prd/books/images/9781501171345.jpg\"/>,\n",
       " <img alt=\"OTHER BIRDS by Sarah Addison Allen\" itemprop=\"image\" role=\"presentation\" src=\"https://storage.googleapis.com/du-prd/books/images/9781250019868.jpg\"/>,\n",
       " <img alt=\"LESSONS IN CHEMISTRY by Bonnie Garmus\" itemprop=\"image\" role=\"presentation\" src=\"https://storage.googleapis.com/du-prd/books/images/9780385547345.jpg\"/>,\n",
       " <img alt=\"THE MIDNIGHT LIBRARY by Matt Haig\" itemprop=\"image\" role=\"presentation\" src=\"https://storage.googleapis.com/du-prd/books/images/9780525559474.jpg\"/>,\n",
       " <img alt=\"THE RISING TIDE by Ann Cleeves\" itemprop=\"image\" role=\"presentation\" src=\"https://storage.googleapis.com/du-prd/books/images/9781250204530.jpg\"/>]"
      ]
     },
     "execution_count": 15,
     "metadata": {},
     "output_type": "execute_result"
    }
   ],
   "source": [
    "#<- getting the Book cover \n",
    "soup.select('article img[itemprop=\"image\"]')"
   ]
  },
  {
   "cell_type": "code",
   "execution_count": 16,
   "id": "13492ad5",
   "metadata": {},
   "outputs": [
    {
     "data": {
      "text/plain": [
       "['https://storage.googleapis.com/du-prd/books/images/9781668002179.jpg',\n",
       " 'https://storage.googleapis.com/du-prd/books/images/9781250278234.jpg',\n",
       " 'https://storage.googleapis.com/du-prd/books/images/9780593158685.jpg',\n",
       " 'https://storage.googleapis.com/du-prd/books/images/9780593496473.jpg',\n",
       " 'https://storage.googleapis.com/du-prd/books/images/9780593320624.jpg',\n",
       " 'https://storage.googleapis.com/du-prd/books/images/9781538719848.jpg',\n",
       " 'https://storage.googleapis.com/du-prd/books/images/9780593540640.jpg',\n",
       " 'https://storage.googleapis.com/du-prd/books/images/9780593297285.jpg',\n",
       " 'https://storage.googleapis.com/du-prd/books/images/9780593200681.jpg',\n",
       " 'https://storage.googleapis.com/du-prd/books/images/9780316413039.jpg',\n",
       " 'https://storage.googleapis.com/du-prd/books/images/9781501171345.jpg',\n",
       " 'https://storage.googleapis.com/du-prd/books/images/9781250019868.jpg',\n",
       " 'https://storage.googleapis.com/du-prd/books/images/9780385547345.jpg',\n",
       " 'https://storage.googleapis.com/du-prd/books/images/9780525559474.jpg',\n",
       " 'https://storage.googleapis.com/du-prd/books/images/9781250204530.jpg']"
      ]
     },
     "execution_count": 16,
     "metadata": {},
     "output_type": "execute_result"
    }
   ],
   "source": [
    "result=soup.select('article img[itemprop=\"image\"]')\n",
    "images=[cover.get('src') for cover in result]\n",
    "# the this can also be written as\n",
    "# Book_cover = [cover['src'] for cover in result]\n",
    "images"
   ]
  },
  {
   "cell_type": "markdown",
   "id": "47b7079b",
   "metadata": {},
   "source": [
    "###  Combining the 3 list together"
   ]
  },
  {
   "cell_type": "code",
   "execution_count": 17,
   "id": "3253ad1c",
   "metadata": {},
   "outputs": [],
   "source": [
    "book_info = list(zip(titles, authors, images))   #<-- Combining 3 list together (Book Titles, Authors, Images)"
   ]
  },
  {
   "cell_type": "code",
   "execution_count": 18,
   "id": "988f821a",
   "metadata": {},
   "outputs": [
    {
     "data": {
      "text/plain": [
       "[('FAIRY TALE',\n",
       "  'Stephen King',\n",
       "  'https://storage.googleapis.com/du-prd/books/images/9781668002179.jpg'),\n",
       " ('DESPERATION IN DEATH',\n",
       "  'J.D. Ro',\n",
       "  'https://storage.googleapis.com/du-prd/books/images/9781250278234.jpg'),\n",
       " ('CARRIE SOTO IS BACK',\n",
       "  'Taylor Jenkins Reid',\n",
       "  'https://storage.googleapis.com/du-prd/books/images/9780593158685.jpg'),\n",
       " ('ALL GOOD PEOPLE HERE',\n",
       "  'Ashley Flowers with Alex Kiester',\n",
       "  'https://storage.googleapis.com/du-prd/books/images/9780593496473.jpg'),\n",
       " ('THE MARRIAGE PORTRAIT',\n",
       "  \"Maggie O'Farrell\",\n",
       "  'https://storage.googleapis.com/du-prd/books/images/9780593320624.jpg'),\n",
       " ('THE 6:20 MAN',\n",
       "  'David Baldacci',\n",
       "  'https://storage.googleapis.com/du-prd/books/images/9781538719848.jpg'),\n",
       " (\"CLIVE CUSSLER'S HELLBURNER\",\n",
       "  'Mike Maden',\n",
       "  'https://storage.googleapis.com/du-prd/books/images/9780593540640.jpg'),\n",
       " ('HELL AND BACK',\n",
       "  'Craig Johnson',\n",
       "  'https://storage.googleapis.com/du-prd/books/images/9780593297285.jpg'),\n",
       " ('KILLERS OF A CERTAIN AGE',\n",
       "  'Deanna Raybourn',\n",
       "  'https://storage.googleapis.com/du-prd/books/images/9780593200681.jpg'),\n",
       " ('THE INK BLACK HEART',\n",
       "  'Robert Galbraith',\n",
       "  'https://storage.googleapis.com/du-prd/books/images/9780316413039.jpg'),\n",
       " ('THE LAST THING HE TOLD ME',\n",
       "  'Laura Dave',\n",
       "  'https://storage.googleapis.com/du-prd/books/images/9781501171345.jpg'),\n",
       " ('OTHER BIRDS',\n",
       "  'Sarah Addison Allen',\n",
       "  'https://storage.googleapis.com/du-prd/books/images/9781250019868.jpg'),\n",
       " ('LESSONS IN CHEMISTRY',\n",
       "  'Bonnie Garmus',\n",
       "  'https://storage.googleapis.com/du-prd/books/images/9780385547345.jpg'),\n",
       " ('THE MIDNIGHT LIBRARY',\n",
       "  'Matt Haig',\n",
       "  'https://storage.googleapis.com/du-prd/books/images/9780525559474.jpg'),\n",
       " ('THE RISING TIDE',\n",
       "  'Ann Cleeves',\n",
       "  'https://storage.googleapis.com/du-prd/books/images/9781250204530.jpg')]"
      ]
     },
     "execution_count": 18,
     "metadata": {},
     "output_type": "execute_result"
    }
   ],
   "source": [
    "book_info"
   ]
  },
  {
   "cell_type": "markdown",
   "id": "48e705fb",
   "metadata": {},
   "source": [
    "### Using playwright to scrape a single web page\n",
    "\n",
    "* Scraping a single page with Playwright\n",
    "* Automating & Scrapping Multiple Pages"
   ]
  },
  {
   "cell_type": "raw",
   "id": "9dac7792",
   "metadata": {},
   "source": [
    "import sys\n",
    "!{sys.executable} -m pip install playwright"
   ]
  },
  {
   "cell_type": "markdown",
   "id": "85d9eb9d",
   "metadata": {},
   "source": [
    "from playwright.sync_api import sync_playwright"
   ]
  },
  {
   "cell_type": "markdown",
   "id": "29784aa9",
   "metadata": {},
   "source": [
    "# Loading Data Into Pandas\n",
    "\n",
    "Let's write a function to do the same thing we've done earlier"
   ]
  },
  {
   "cell_type": "code",
   "execution_count": 19,
   "id": "9ac1825c",
   "metadata": {},
   "outputs": [],
   "source": [
    "def get_book_info(page):\n",
    "    soup = BeautifulSoup(page, 'lxml')\n",
    "    \n",
    "    result = soup.select('article h3[itemprop=\"name\"]')\n",
    "    titles = [name.text for name in result] #<-- the book titles in the list\n",
    "    \n",
    "    author_result = soup.select('article p[itemprop=\"author\"]')\n",
    "    authors = [author.text.strip('by ') for author in author_result]\n",
    "    \n",
    "    result=soup.select('article img[itemprop=\"image\"]')\n",
    "    images=[cover.get('src') for cover in result]\n",
    "    \n",
    "    return list(zip(titles, authors, images))"
   ]
  },
  {
   "cell_type": "code",
   "execution_count": 20,
   "id": "be09b069",
   "metadata": {
    "scrolled": true
   },
   "outputs": [
    {
     "data": {
      "text/plain": [
       "[('FAIRY TALE',\n",
       "  'Stephen King',\n",
       "  'https://storage.googleapis.com/du-prd/books/images/9781668002179.jpg'),\n",
       " ('DESPERATION IN DEATH',\n",
       "  'J.D. Ro',\n",
       "  'https://storage.googleapis.com/du-prd/books/images/9781250278234.jpg'),\n",
       " ('CARRIE SOTO IS BACK',\n",
       "  'Taylor Jenkins Reid',\n",
       "  'https://storage.googleapis.com/du-prd/books/images/9780593158685.jpg'),\n",
       " ('ALL GOOD PEOPLE HERE',\n",
       "  'Ashley Flowers with Alex Kiester',\n",
       "  'https://storage.googleapis.com/du-prd/books/images/9780593496473.jpg'),\n",
       " ('THE MARRIAGE PORTRAIT',\n",
       "  \"Maggie O'Farrell\",\n",
       "  'https://storage.googleapis.com/du-prd/books/images/9780593320624.jpg'),\n",
       " ('THE 6:20 MAN',\n",
       "  'David Baldacci',\n",
       "  'https://storage.googleapis.com/du-prd/books/images/9781538719848.jpg'),\n",
       " (\"CLIVE CUSSLER'S HELLBURNER\",\n",
       "  'Mike Maden',\n",
       "  'https://storage.googleapis.com/du-prd/books/images/9780593540640.jpg'),\n",
       " ('HELL AND BACK',\n",
       "  'Craig Johnson',\n",
       "  'https://storage.googleapis.com/du-prd/books/images/9780593297285.jpg'),\n",
       " ('KILLERS OF A CERTAIN AGE',\n",
       "  'Deanna Raybourn',\n",
       "  'https://storage.googleapis.com/du-prd/books/images/9780593200681.jpg'),\n",
       " ('THE INK BLACK HEART',\n",
       "  'Robert Galbraith',\n",
       "  'https://storage.googleapis.com/du-prd/books/images/9780316413039.jpg'),\n",
       " ('THE LAST THING HE TOLD ME',\n",
       "  'Laura Dave',\n",
       "  'https://storage.googleapis.com/du-prd/books/images/9781501171345.jpg'),\n",
       " ('OTHER BIRDS',\n",
       "  'Sarah Addison Allen',\n",
       "  'https://storage.googleapis.com/du-prd/books/images/9781250019868.jpg'),\n",
       " ('LESSONS IN CHEMISTRY',\n",
       "  'Bonnie Garmus',\n",
       "  'https://storage.googleapis.com/du-prd/books/images/9780385547345.jpg'),\n",
       " ('THE MIDNIGHT LIBRARY',\n",
       "  'Matt Haig',\n",
       "  'https://storage.googleapis.com/du-prd/books/images/9780525559474.jpg'),\n",
       " ('THE RISING TIDE',\n",
       "  'Ann Cleeves',\n",
       "  'https://storage.googleapis.com/du-prd/books/images/9781250204530.jpg')]"
      ]
     },
     "execution_count": 20,
     "metadata": {},
     "output_type": "execute_result"
    }
   ],
   "source": [
    "get_book_info(page)   #<-- Getting the book info from  manual.html"
   ]
  },
  {
   "cell_type": "code",
   "execution_count": 21,
   "id": "e3f1cc17",
   "metadata": {},
   "outputs": [],
   "source": [
    "# with open('all_articles.html', 'rb') as f: #<-- reading in all_articles.html scrapped from page 3\n",
    "#     page2 = f.read()\n",
    "    \n",
    "# get_book_info(page2)"
   ]
  },
  {
   "cell_type": "markdown",
   "id": "96d0f724",
   "metadata": {},
   "source": [
    "### Display cover page for each book"
   ]
  },
  {
   "cell_type": "code",
   "execution_count": 22,
   "id": "6f67dbb4",
   "metadata": {},
   "outputs": [],
   "source": [
    "from IPython.display import Image, display"
   ]
  },
  {
   "cell_type": "code",
   "execution_count": 23,
   "id": "10c52846",
   "metadata": {},
   "outputs": [],
   "source": [
    "book_info = get_book_info(page)"
   ]
  },
  {
   "cell_type": "code",
   "execution_count": 24,
   "id": "063be9d9",
   "metadata": {
    "scrolled": true
   },
   "outputs": [
    {
     "name": "stdout",
     "output_type": "stream",
     "text": [
      "Book Title: FAIRY TALE\n",
      "Author: Stephen King\n"
     ]
    },
    {
     "data": {
      "text/html": [
       "<img src=\"https://storage.googleapis.com/du-prd/books/images/9781668002179.jpg\" width=\"100\"/>"
      ],
      "text/plain": [
       "<IPython.core.display.Image object>"
      ]
     },
     "metadata": {},
     "output_type": "display_data"
    },
    {
     "name": "stdout",
     "output_type": "stream",
     "text": [
      "\n",
      "Book Title: DESPERATION IN DEATH\n",
      "Author: J.D. Ro\n"
     ]
    },
    {
     "data": {
      "text/html": [
       "<img src=\"https://storage.googleapis.com/du-prd/books/images/9781250278234.jpg\" width=\"100\"/>"
      ],
      "text/plain": [
       "<IPython.core.display.Image object>"
      ]
     },
     "metadata": {},
     "output_type": "display_data"
    },
    {
     "name": "stdout",
     "output_type": "stream",
     "text": [
      "\n",
      "Book Title: CARRIE SOTO IS BACK\n",
      "Author: Taylor Jenkins Reid\n"
     ]
    },
    {
     "data": {
      "text/html": [
       "<img src=\"https://storage.googleapis.com/du-prd/books/images/9780593158685.jpg\" width=\"100\"/>"
      ],
      "text/plain": [
       "<IPython.core.display.Image object>"
      ]
     },
     "metadata": {},
     "output_type": "display_data"
    },
    {
     "name": "stdout",
     "output_type": "stream",
     "text": [
      "\n",
      "Book Title: ALL GOOD PEOPLE HERE\n",
      "Author: Ashley Flowers with Alex Kiester\n"
     ]
    },
    {
     "data": {
      "text/html": [
       "<img src=\"https://storage.googleapis.com/du-prd/books/images/9780593496473.jpg\" width=\"100\"/>"
      ],
      "text/plain": [
       "<IPython.core.display.Image object>"
      ]
     },
     "metadata": {},
     "output_type": "display_data"
    },
    {
     "name": "stdout",
     "output_type": "stream",
     "text": [
      "\n",
      "Book Title: THE MARRIAGE PORTRAIT\n",
      "Author: Maggie O'Farrell\n"
     ]
    },
    {
     "data": {
      "text/html": [
       "<img src=\"https://storage.googleapis.com/du-prd/books/images/9780593320624.jpg\" width=\"100\"/>"
      ],
      "text/plain": [
       "<IPython.core.display.Image object>"
      ]
     },
     "metadata": {},
     "output_type": "display_data"
    },
    {
     "name": "stdout",
     "output_type": "stream",
     "text": [
      "\n",
      "Book Title: THE 6:20 MAN\n",
      "Author: David Baldacci\n"
     ]
    },
    {
     "data": {
      "text/html": [
       "<img src=\"https://storage.googleapis.com/du-prd/books/images/9781538719848.jpg\" width=\"100\"/>"
      ],
      "text/plain": [
       "<IPython.core.display.Image object>"
      ]
     },
     "metadata": {},
     "output_type": "display_data"
    },
    {
     "name": "stdout",
     "output_type": "stream",
     "text": [
      "\n",
      "Book Title: CLIVE CUSSLER'S HELLBURNER\n",
      "Author: Mike Maden\n"
     ]
    },
    {
     "data": {
      "text/html": [
       "<img src=\"https://storage.googleapis.com/du-prd/books/images/9780593540640.jpg\" width=\"100\"/>"
      ],
      "text/plain": [
       "<IPython.core.display.Image object>"
      ]
     },
     "metadata": {},
     "output_type": "display_data"
    },
    {
     "name": "stdout",
     "output_type": "stream",
     "text": [
      "\n",
      "Book Title: HELL AND BACK\n",
      "Author: Craig Johnson\n"
     ]
    },
    {
     "data": {
      "text/html": [
       "<img src=\"https://storage.googleapis.com/du-prd/books/images/9780593297285.jpg\" width=\"100\"/>"
      ],
      "text/plain": [
       "<IPython.core.display.Image object>"
      ]
     },
     "metadata": {},
     "output_type": "display_data"
    },
    {
     "name": "stdout",
     "output_type": "stream",
     "text": [
      "\n",
      "Book Title: KILLERS OF A CERTAIN AGE\n",
      "Author: Deanna Raybourn\n"
     ]
    },
    {
     "data": {
      "text/html": [
       "<img src=\"https://storage.googleapis.com/du-prd/books/images/9780593200681.jpg\" width=\"100\"/>"
      ],
      "text/plain": [
       "<IPython.core.display.Image object>"
      ]
     },
     "metadata": {},
     "output_type": "display_data"
    },
    {
     "name": "stdout",
     "output_type": "stream",
     "text": [
      "\n",
      "Book Title: THE INK BLACK HEART\n",
      "Author: Robert Galbraith\n"
     ]
    },
    {
     "data": {
      "text/html": [
       "<img src=\"https://storage.googleapis.com/du-prd/books/images/9780316413039.jpg\" width=\"100\"/>"
      ],
      "text/plain": [
       "<IPython.core.display.Image object>"
      ]
     },
     "metadata": {},
     "output_type": "display_data"
    },
    {
     "name": "stdout",
     "output_type": "stream",
     "text": [
      "\n",
      "Book Title: THE LAST THING HE TOLD ME\n",
      "Author: Laura Dave\n"
     ]
    },
    {
     "data": {
      "text/html": [
       "<img src=\"https://storage.googleapis.com/du-prd/books/images/9781501171345.jpg\" width=\"100\"/>"
      ],
      "text/plain": [
       "<IPython.core.display.Image object>"
      ]
     },
     "metadata": {},
     "output_type": "display_data"
    },
    {
     "name": "stdout",
     "output_type": "stream",
     "text": [
      "\n",
      "Book Title: OTHER BIRDS\n",
      "Author: Sarah Addison Allen\n"
     ]
    },
    {
     "data": {
      "text/html": [
       "<img src=\"https://storage.googleapis.com/du-prd/books/images/9781250019868.jpg\" width=\"100\"/>"
      ],
      "text/plain": [
       "<IPython.core.display.Image object>"
      ]
     },
     "metadata": {},
     "output_type": "display_data"
    },
    {
     "name": "stdout",
     "output_type": "stream",
     "text": [
      "\n",
      "Book Title: LESSONS IN CHEMISTRY\n",
      "Author: Bonnie Garmus\n"
     ]
    },
    {
     "data": {
      "text/html": [
       "<img src=\"https://storage.googleapis.com/du-prd/books/images/9780385547345.jpg\" width=\"100\"/>"
      ],
      "text/plain": [
       "<IPython.core.display.Image object>"
      ]
     },
     "metadata": {},
     "output_type": "display_data"
    },
    {
     "name": "stdout",
     "output_type": "stream",
     "text": [
      "\n",
      "Book Title: THE MIDNIGHT LIBRARY\n",
      "Author: Matt Haig\n"
     ]
    },
    {
     "data": {
      "text/html": [
       "<img src=\"https://storage.googleapis.com/du-prd/books/images/9780525559474.jpg\" width=\"100\"/>"
      ],
      "text/plain": [
       "<IPython.core.display.Image object>"
      ]
     },
     "metadata": {},
     "output_type": "display_data"
    },
    {
     "name": "stdout",
     "output_type": "stream",
     "text": [
      "\n",
      "Book Title: THE RISING TIDE\n",
      "Author: Ann Cleeves\n"
     ]
    },
    {
     "data": {
      "text/html": [
       "<img src=\"https://storage.googleapis.com/du-prd/books/images/9781250204530.jpg\" width=\"100\"/>"
      ],
      "text/plain": [
       "<IPython.core.display.Image object>"
      ]
     },
     "metadata": {},
     "output_type": "display_data"
    },
    {
     "name": "stdout",
     "output_type": "stream",
     "text": [
      "\n"
     ]
    }
   ],
   "source": [
    "for book in book_info:\n",
    "    print(f'Book Title: {book[0]}') \n",
    "    print(f'Author: {book[1]}') \n",
    "    display(Image(url = book[2], width = 100))\n",
    "    print(\"\")"
   ]
  },
  {
   "cell_type": "markdown",
   "id": "8fc652ad",
   "metadata": {},
   "source": [
    "### Loading the Scrapped Data in Pandas"
   ]
  },
  {
   "cell_type": "code",
   "execution_count": 25,
   "id": "c4118db7",
   "metadata": {},
   "outputs": [],
   "source": [
    "import pandas as pd"
   ]
  },
  {
   "cell_type": "code",
   "execution_count": 26,
   "id": "c1d6d593",
   "metadata": {},
   "outputs": [
    {
     "data": {
      "text/html": [
       "<div>\n",
       "<style scoped>\n",
       "    .dataframe tbody tr th:only-of-type {\n",
       "        vertical-align: middle;\n",
       "    }\n",
       "\n",
       "    .dataframe tbody tr th {\n",
       "        vertical-align: top;\n",
       "    }\n",
       "\n",
       "    .dataframe thead th {\n",
       "        text-align: right;\n",
       "    }\n",
       "</style>\n",
       "<table border=\"1\" class=\"dataframe\">\n",
       "  <thead>\n",
       "    <tr style=\"text-align: right;\">\n",
       "      <th></th>\n",
       "      <th>title</th>\n",
       "      <th>author</th>\n",
       "      <th>cover_url</th>\n",
       "    </tr>\n",
       "  </thead>\n",
       "  <tbody>\n",
       "    <tr>\n",
       "      <th>0</th>\n",
       "      <td>FAIRY TALE</td>\n",
       "      <td>Stephen King</td>\n",
       "      <td>https://storage.googleapis.com/du-prd/books/im...</td>\n",
       "    </tr>\n",
       "    <tr>\n",
       "      <th>1</th>\n",
       "      <td>DESPERATION IN DEATH</td>\n",
       "      <td>J.D. Ro</td>\n",
       "      <td>https://storage.googleapis.com/du-prd/books/im...</td>\n",
       "    </tr>\n",
       "    <tr>\n",
       "      <th>2</th>\n",
       "      <td>CARRIE SOTO IS BACK</td>\n",
       "      <td>Taylor Jenkins Reid</td>\n",
       "      <td>https://storage.googleapis.com/du-prd/books/im...</td>\n",
       "    </tr>\n",
       "    <tr>\n",
       "      <th>3</th>\n",
       "      <td>ALL GOOD PEOPLE HERE</td>\n",
       "      <td>Ashley Flowers with Alex Kiester</td>\n",
       "      <td>https://storage.googleapis.com/du-prd/books/im...</td>\n",
       "    </tr>\n",
       "    <tr>\n",
       "      <th>4</th>\n",
       "      <td>THE MARRIAGE PORTRAIT</td>\n",
       "      <td>Maggie O'Farrell</td>\n",
       "      <td>https://storage.googleapis.com/du-prd/books/im...</td>\n",
       "    </tr>\n",
       "    <tr>\n",
       "      <th>5</th>\n",
       "      <td>THE 6:20 MAN</td>\n",
       "      <td>David Baldacci</td>\n",
       "      <td>https://storage.googleapis.com/du-prd/books/im...</td>\n",
       "    </tr>\n",
       "    <tr>\n",
       "      <th>6</th>\n",
       "      <td>CLIVE CUSSLER'S HELLBURNER</td>\n",
       "      <td>Mike Maden</td>\n",
       "      <td>https://storage.googleapis.com/du-prd/books/im...</td>\n",
       "    </tr>\n",
       "    <tr>\n",
       "      <th>7</th>\n",
       "      <td>HELL AND BACK</td>\n",
       "      <td>Craig Johnson</td>\n",
       "      <td>https://storage.googleapis.com/du-prd/books/im...</td>\n",
       "    </tr>\n",
       "    <tr>\n",
       "      <th>8</th>\n",
       "      <td>KILLERS OF A CERTAIN AGE</td>\n",
       "      <td>Deanna Raybourn</td>\n",
       "      <td>https://storage.googleapis.com/du-prd/books/im...</td>\n",
       "    </tr>\n",
       "    <tr>\n",
       "      <th>9</th>\n",
       "      <td>THE INK BLACK HEART</td>\n",
       "      <td>Robert Galbraith</td>\n",
       "      <td>https://storage.googleapis.com/du-prd/books/im...</td>\n",
       "    </tr>\n",
       "    <tr>\n",
       "      <th>10</th>\n",
       "      <td>THE LAST THING HE TOLD ME</td>\n",
       "      <td>Laura Dave</td>\n",
       "      <td>https://storage.googleapis.com/du-prd/books/im...</td>\n",
       "    </tr>\n",
       "    <tr>\n",
       "      <th>11</th>\n",
       "      <td>OTHER BIRDS</td>\n",
       "      <td>Sarah Addison Allen</td>\n",
       "      <td>https://storage.googleapis.com/du-prd/books/im...</td>\n",
       "    </tr>\n",
       "    <tr>\n",
       "      <th>12</th>\n",
       "      <td>LESSONS IN CHEMISTRY</td>\n",
       "      <td>Bonnie Garmus</td>\n",
       "      <td>https://storage.googleapis.com/du-prd/books/im...</td>\n",
       "    </tr>\n",
       "    <tr>\n",
       "      <th>13</th>\n",
       "      <td>THE MIDNIGHT LIBRARY</td>\n",
       "      <td>Matt Haig</td>\n",
       "      <td>https://storage.googleapis.com/du-prd/books/im...</td>\n",
       "    </tr>\n",
       "    <tr>\n",
       "      <th>14</th>\n",
       "      <td>THE RISING TIDE</td>\n",
       "      <td>Ann Cleeves</td>\n",
       "      <td>https://storage.googleapis.com/du-prd/books/im...</td>\n",
       "    </tr>\n",
       "  </tbody>\n",
       "</table>\n",
       "</div>"
      ],
      "text/plain": [
       "                         title                            author  \\\n",
       "0                   FAIRY TALE                      Stephen King   \n",
       "1         DESPERATION IN DEATH                           J.D. Ro   \n",
       "2          CARRIE SOTO IS BACK               Taylor Jenkins Reid   \n",
       "3         ALL GOOD PEOPLE HERE  Ashley Flowers with Alex Kiester   \n",
       "4        THE MARRIAGE PORTRAIT                  Maggie O'Farrell   \n",
       "5                 THE 6:20 MAN                    David Baldacci   \n",
       "6   CLIVE CUSSLER'S HELLBURNER                        Mike Maden   \n",
       "7                HELL AND BACK                     Craig Johnson   \n",
       "8     KILLERS OF A CERTAIN AGE                   Deanna Raybourn   \n",
       "9          THE INK BLACK HEART                  Robert Galbraith   \n",
       "10   THE LAST THING HE TOLD ME                        Laura Dave   \n",
       "11                 OTHER BIRDS               Sarah Addison Allen   \n",
       "12        LESSONS IN CHEMISTRY                     Bonnie Garmus   \n",
       "13        THE MIDNIGHT LIBRARY                         Matt Haig   \n",
       "14             THE RISING TIDE                       Ann Cleeves   \n",
       "\n",
       "                                            cover_url  \n",
       "0   https://storage.googleapis.com/du-prd/books/im...  \n",
       "1   https://storage.googleapis.com/du-prd/books/im...  \n",
       "2   https://storage.googleapis.com/du-prd/books/im...  \n",
       "3   https://storage.googleapis.com/du-prd/books/im...  \n",
       "4   https://storage.googleapis.com/du-prd/books/im...  \n",
       "5   https://storage.googleapis.com/du-prd/books/im...  \n",
       "6   https://storage.googleapis.com/du-prd/books/im...  \n",
       "7   https://storage.googleapis.com/du-prd/books/im...  \n",
       "8   https://storage.googleapis.com/du-prd/books/im...  \n",
       "9   https://storage.googleapis.com/du-prd/books/im...  \n",
       "10  https://storage.googleapis.com/du-prd/books/im...  \n",
       "11  https://storage.googleapis.com/du-prd/books/im...  \n",
       "12  https://storage.googleapis.com/du-prd/books/im...  \n",
       "13  https://storage.googleapis.com/du-prd/books/im...  \n",
       "14  https://storage.googleapis.com/du-prd/books/im...  "
      ]
     },
     "execution_count": 26,
     "metadata": {},
     "output_type": "execute_result"
    }
   ],
   "source": [
    "book_df = pd.DataFrame(book_info, columns=['title', 'author', 'cover_url'])\n",
    "book_df"
   ]
  },
  {
   "cell_type": "code",
   "execution_count": 27,
   "id": "b71e2088",
   "metadata": {},
   "outputs": [
    {
     "data": {
      "text/plain": [
       "Stephen King                        1\n",
       "J.D. Ro                             1\n",
       "Taylor Jenkins Reid                 1\n",
       "Ashley Flowers with Alex Kiester    1\n",
       "Maggie O'Farrell                    1\n",
       "David Baldacci                      1\n",
       "Mike Maden                          1\n",
       "Craig Johnson                       1\n",
       "Deanna Raybourn                     1\n",
       "Robert Galbraith                    1\n",
       "Laura Dave                          1\n",
       "Sarah Addison Allen                 1\n",
       "Bonnie Garmus                       1\n",
       "Matt Haig                           1\n",
       "Ann Cleeves                         1\n",
       "Name: author, dtype: int64"
      ]
     },
     "execution_count": 27,
     "metadata": {},
     "output_type": "execute_result"
    }
   ],
   "source": [
    "book_df['author'].value_counts() #<-- check how many times an author's name appears"
   ]
  },
  {
   "cell_type": "markdown",
   "id": "434a9b2e",
   "metadata": {},
   "source": [
    " ## To Save File in CSV"
   ]
  },
  {
   "cell_type": "code",
   "execution_count": 28,
   "id": "0a8b2b48",
   "metadata": {},
   "outputs": [],
   "source": [
    "book_df.to_csv('first_page.csv')"
   ]
  },
  {
   "cell_type": "code",
   "execution_count": null,
   "id": "f5a880bc",
   "metadata": {},
   "outputs": [],
   "source": []
  }
 ],
 "metadata": {
  "kernelspec": {
   "display_name": "Python 3 (ipykernel)",
   "language": "python",
   "name": "python3"
  },
  "language_info": {
   "codemirror_mode": {
    "name": "ipython",
    "version": 3
   },
   "file_extension": ".py",
   "mimetype": "text/x-python",
   "name": "python",
   "nbconvert_exporter": "python",
   "pygments_lexer": "ipython3",
   "version": "3.10.9"
  }
 },
 "nbformat": 4,
 "nbformat_minor": 5
}
